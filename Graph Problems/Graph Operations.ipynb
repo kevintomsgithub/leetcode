{
 "cells": [
  {
   "cell_type": "code",
   "execution_count": 1,
   "metadata": {},
   "outputs": [
    {
     "name": "stdout",
     "output_type": "stream",
     "text": [
      "A : ['B', 'C'] - 1/10\n",
      "B : ['A', 'D'] - 2/9\n",
      "C : ['A', 'D'] - 4/5\n",
      "D : ['B', 'C', 'E'] - 3/8\n",
      "E : ['D'] - 6/7\n"
     ]
    }
   ],
   "source": [
    "class Vertex():\n",
    "    def __init__(self, n):\n",
    "        self.name = n\n",
    "        self.neighbours = []\n",
    "        \n",
    "        self.disovery = 0\n",
    "        self.finish = 0\n",
    "        self.color = 'black'\n",
    "        \n",
    "    def add_neighbour(self, v):\n",
    "        nset = set(self.neighbours)\n",
    "        if v not in nset:\n",
    "            self.neighbours.append(v)\n",
    "            self.neighbours.sort()\n",
    "            \n",
    "class Graph:\n",
    "    vertices = {}\n",
    "    time = 0\n",
    "    \n",
    "    def add_vertex(self, vertex):\n",
    "        if isinstance(vertex, Vertex) and vertex.name not in self.vertices:\n",
    "            self.vertices[vertex.name] = vertex\n",
    "            return True\n",
    "        else:\n",
    "            return False\n",
    "        \n",
    "    def add_edge(self, u, v):\n",
    "        if u in self.vertices and v in self.vertices:\n",
    "            for key, value in self.vertices.items():\n",
    "                if key == u:\n",
    "                    value.add_neighbour(v)\n",
    "                if key == v:\n",
    "                    value.add_neighbour(u)\n",
    "            return True\n",
    "        else:\n",
    "            return False\n",
    "        \n",
    "    def print_graph(self):\n",
    "        for key in sorted(list(self.vertices.keys())):\n",
    "            print(f\"{key} : {self.vertices[key].neighbours} - {self.vertices[key].disovery}/{self.vertices[key].finish}\")\n",
    "            \n",
    "    def _dfs(self, vertex_name):\n",
    "        global time\n",
    "        if vertex_name in self.vertices.keys():\n",
    "            vertex = self.vertices[vertex_name]\n",
    "            vertex.color = 'red'\n",
    "            vertex.disovery = time\n",
    "            time += 1\n",
    "            for v in vertex.neighbours:\n",
    "                if self.vertices[v].color == 'black':\n",
    "                    self._dfs(self.vertices[v].name)\n",
    "            vertex.color = 'blue'\n",
    "            vertex.finish = time\n",
    "            time += 1\n",
    "        else:\n",
    "            return False\n",
    "        \n",
    "    def dfs(self, vertex):\n",
    "        global time\n",
    "        time = 1\n",
    "        self._dfs(vertex)\n",
    "        \n",
    "g = Graph()\n",
    "\n",
    "for i in range(ord('A'), ord('F')):\n",
    "    g.add_vertex(Vertex(chr(i)))\n",
    "    \n",
    "edges = ['AB', 'AC', 'BA', 'BD', 'CA', 'CD', 'DE', 'ED']\n",
    "\n",
    "for edge in edges:\n",
    "    g.add_edge(edge[0], edge[1])\n",
    "    \n",
    "g.dfs('A')\n",
    "g.print_graph()"
   ]
  },
  {
   "cell_type": "code",
   "execution_count": 69,
   "metadata": {},
   "outputs": [
    {
     "name": "stdout",
     "output_type": "stream",
     "text": [
      "['A', 'B', 'D', 'C', 'E']\n"
     ]
    }
   ],
   "source": [
    "graph = {\n",
    "    \"A\" : ['B', 'C'],\n",
    "    \"B\" : ['A', 'D'],\n",
    "    \"C\" : ['A', 'D'],\n",
    "    \"D\" : ['B', 'C', 'E'],\n",
    "    \"E\" : ['D'],\n",
    "}\n",
    "\n",
    "def DFS(a, b, path=[]):\n",
    "    path += [a]\n",
    "    if a == b:\n",
    "        return path\n",
    "    for i in graph[a]:\n",
    "        if i not in path:\n",
    "            new_path = DFS(i, b, path)\n",
    "            if new_path:\n",
    "                return new_path\n",
    "\n",
    "x = DFS('A', 'E')\n",
    "print(x)"
   ]
  },
  {
   "cell_type": "code",
   "execution_count": 68,
   "metadata": {},
   "outputs": [
    {
     "name": "stdout",
     "output_type": "stream",
     "text": [
      "['A', 'B', 'C', 'D', 'E']\n"
     ]
    }
   ],
   "source": [
    "def BFS(a):\n",
    "    q = [a]\n",
    "    visited_nodes = [a]\n",
    "    while q:\n",
    "        s = q.pop(0)\n",
    "        for i in graph[s]:\n",
    "            if i not in visited_nodes:\n",
    "                visited_nodes.append(i)\n",
    "                q.append(i)\n",
    "    return visited_nodes\n",
    "                \n",
    "x = BFS('A')\n",
    "print(x)"
   ]
  },
  {
   "cell_type": "code",
   "execution_count": 74,
   "metadata": {},
   "outputs": [
    {
     "data": {
      "text/plain": [
       "[1, 2, 3, 4, 5, 6]"
      ]
     },
     "execution_count": 74,
     "metadata": {},
     "output_type": "execute_result"
    }
   ],
   "source": [
    "BT_Graph = {\n",
    "    1: [2, 3],\n",
    "    2: [1, 4, 5],\n",
    "    3: [1, 6],\n",
    "    4: [2],\n",
    "    5: [2],\n",
    "    6: [3],\n",
    "}\n",
    "\n",
    "def DFS(a, b, path=[]):\n",
    "    path += [a]\n",
    "    if a == b:\n",
    "        return path\n",
    "    for i in BT_Graph[a]:\n",
    "        if i not in path:\n",
    "            new_path = DFS(i, b, path)\n",
    "            if new_path:\n",
    "                return new_path\n",
    "            \n",
    "def BFS(a):\n",
    "    q = [a]\n",
    "    visited_nodes = [a]\n",
    "    while q:\n",
    "        s = q.pop(0)\n",
    "        for i in BT_Graph[s]:\n",
    "            if i not in visited_nodes:\n",
    "                visited_nodes.append(i)\n",
    "                q.append(i)\n",
    "    return visited_nodes\n",
    "\n",
    "# x = DFS(1, 6)\n",
    "# x = BFS(1)"
   ]
  },
  {
   "cell_type": "code",
   "execution_count": 78,
   "metadata": {},
   "outputs": [
    {
     "name": "stdout",
     "output_type": "stream",
     "text": [
      "[1, 2, 4, 5, 3, 6]\n"
     ]
    }
   ],
   "source": [
    "pre_order_stack = []\n",
    "def pre_order_traversal(a):\n",
    "    if a:\n",
    "        pre_order_stack.append(a)\n",
    "        for i in BT_Graph[a]:\n",
    "            if i not in pre_order_stack:\n",
    "                pre_order_traversal(i)\n",
    "    \n",
    "x=pre_order_traversal(1)\n",
    "print(pre_order_stack)"
   ]
  },
  {
   "cell_type": "code",
   "execution_count": 122,
   "metadata": {},
   "outputs": [
    {
     "name": "stdout",
     "output_type": "stream",
     "text": [
      "[4, 5, 2, 6, 3]\n"
     ]
    }
   ],
   "source": [
    "in_order_stack = []\n",
    "path = []\n",
    "def in_order_traversal(a):\n",
    "    path.append(a)\n",
    "    for i in BT_Graph[a]:\n",
    "        if i not in path:\n",
    "            in_order_traversal(i)\n",
    "            in_order_stack.append(i)\n",
    "    \n",
    "x=in_order_traversal(1)\n",
    "print(in_order_stack)"
   ]
  },
  {
   "cell_type": "code",
   "execution_count": 83,
   "metadata": {},
   "outputs": [
    {
     "name": "stdout",
     "output_type": "stream",
     "text": [
      "[4, 5, 2, 6, 3]\n"
     ]
    }
   ],
   "source": [
    "post_order_stack = []\n",
    "path = []\n",
    "def post_order_traversal(a):\n",
    "    path.append(a)\n",
    "    for i in BT_Graph[a]:\n",
    "        if i not in path:\n",
    "            post_order_traversal(i)\n",
    "            post_order_stack.append(i)\n",
    "    \n",
    "x=post_order_traversal(1)\n",
    "print(post_order_stack)"
   ]
  },
  {
   "cell_type": "code",
   "execution_count": 84,
   "metadata": {},
   "outputs": [
    {
     "data": {
      "text/plain": [
       "[1, 2, 4, 5, 3, 6]"
      ]
     },
     "execution_count": 84,
     "metadata": {},
     "output_type": "execute_result"
    }
   ],
   "source": [
    "path"
   ]
  },
  {
   "cell_type": "code",
   "execution_count": 119,
   "metadata": {},
   "outputs": [
    {
     "name": "stdout",
     "output_type": "stream",
     "text": [
      "Pre-order  :  [1, 2, 4, 5, 3, 6]\n",
      "In-order   :  [4, 2, 5, 1, 6, 3]\n",
      "Post-order :  [4, 5, 2, 6, 3, 1]\n"
     ]
    }
   ],
   "source": [
    "# Binary Tree Traversal\n",
    "\n",
    "class Node():\n",
    "    def __init__(self, n):\n",
    "        self.data = n\n",
    "        self.left = None\n",
    "        self.right = None\n",
    "        \n",
    "def pre_order(root):\n",
    "    if root:\n",
    "        traversal.append(root.data)\n",
    "        pre_order(root.left)\n",
    "        pre_order(root.right)\n",
    "            \n",
    "def in_order(root):\n",
    "    if root:\n",
    "        in_order(root.left)\n",
    "        traversal.append(root.data)\n",
    "        in_order(root.right)\n",
    "            \n",
    "def post_order(root):\n",
    "    if root:\n",
    "        post_order(root.left)\n",
    "        post_order(root.right)\n",
    "        traversal.append(root.data)\n",
    "        \n",
    "root = Node(1)\n",
    "root.left = Node(2)\n",
    "root.right = Node(3)\n",
    "root.left.left = Node(4)\n",
    "root.left.right = Node(5)\n",
    "root.right.left = Node(6)\n",
    "\n",
    "traversal = []\n",
    "pre_order(root)\n",
    "print('Pre-order  : ', traversal)\n",
    "traversal = []\n",
    "in_order(root)\n",
    "print('In-order   : ', traversal)\n",
    "traversal = []\n",
    "post_order(root)\n",
    "print('Post-order : ', traversal)"
   ]
  },
  {
   "cell_type": "code",
   "execution_count": 169,
   "metadata": {},
   "outputs": [],
   "source": [
    "def find_shortest_path(Graph):\n",
    "    a = min(Graph.keys())\n",
    "    destination = max(Graph.keys())\n",
    "    q = [a]\n",
    "    visited_nodes = [a]\n",
    "    distance = 0\n",
    "    distance_map = {a: 0}\n",
    "    while q:\n",
    "        s = q.pop(0)\n",
    "        distance += 1\n",
    "        for i in Graph[s]:\n",
    "            if i in distance_map:\n",
    "                if distance < distance_map[i]:\n",
    "                    distance_map[i] = distance\n",
    "            else:\n",
    "                distance_map[i] = distance\n",
    "            if i not in visited_nodes:\n",
    "                visited_nodes.append(i)\n",
    "                q.append(i)\n",
    "    return distance_map[destination]"
   ]
  },
  {
   "cell_type": "code",
   "execution_count": 160,
   "metadata": {},
   "outputs": [
    {
     "name": "stdin",
     "output_type": "stream",
     "text": [
      " 2\n"
     ]
    },
    {
     "name": "stdout",
     "output_type": "stream",
     "text": [
      "Case  1\n"
     ]
    },
    {
     "name": "stdin",
     "output_type": "stream",
     "text": [
      " 3 2\n",
      " 1 2\n",
      " 2 3\n"
     ]
    },
    {
     "name": "stdout",
     "output_type": "stream",
     "text": [
      "Case  2\n"
     ]
    },
    {
     "name": "stdin",
     "output_type": "stream",
     "text": [
      " 4 4\n",
      " 1 2\n",
      " 2 3\n",
      " 3 4\n",
      " 4 2\n"
     ]
    }
   ],
   "source": [
    "graph_inputs = []\n",
    "use_cases = int(input())\n",
    "for cases in range(use_cases):\n",
    "    print('Case ', cases+1)\n",
    "    n, m = map(int, input().split(' '))\n",
    "    temp_graph = {}\n",
    "    for vertex in range(m):\n",
    "        v1, v2 = map(int, input().split(' '))\n",
    "        if v1 not in temp_graph:\n",
    "            temp_graph[v1] = [v2]\n",
    "        else:\n",
    "            temp_graph[v1].append(v2)\n",
    "        if v2 not in temp_graph:\n",
    "            temp_graph[v2] = [v1]\n",
    "        else:\n",
    "            temp_graph[v2].append(v1)\n",
    "    graph_inputs.append(temp_graph)"
   ]
  },
  {
   "cell_type": "code",
   "execution_count": 171,
   "metadata": {},
   "outputs": [
    {
     "name": "stdout",
     "output_type": "stream",
     "text": [
      "2\n",
      "2\n"
     ]
    }
   ],
   "source": [
    "for case in range(use_cases):\n",
    "    print(find_shortest_path(graph_inputs[case]))"
   ]
  },
  {
   "cell_type": "code",
   "execution_count": 13,
   "metadata": {},
   "outputs": [
    {
     "name": "stdin",
     "output_type": "stream",
     "text": [
      " 2\n",
      " 3 2\n",
      " 1 2\n",
      " 2 3\n",
      " 4 4\n",
      " 1 2\n",
      " 2 3\n",
      " 3 4\n",
      " 4 2\n"
     ]
    },
    {
     "name": "stdout",
     "output_type": "stream",
     "text": [
      "Distance Map :  [-1, 0, 1, 2]\n",
      "2\n",
      "Distance Map :  [-1, 0, 1, 2, 2]\n",
      "2\n"
     ]
    }
   ],
   "source": [
    "# Find the shortest path\n",
    "def find_shortest_path(Graph):\n",
    "    start = min(Graph.keys())\n",
    "    destination = max(Graph.keys())\n",
    "    q = [start]\n",
    "    distance = [-1 for _ in range(len(Graph.keys())+1)]\n",
    "    distance[start] = 0 \n",
    "    while q:\n",
    "        s = q.pop(0)\n",
    "        for i in Graph[s]:\n",
    "            if distance[i] ==  -1:\n",
    "                distance[i] = distance[s] + 1\n",
    "                q.append(i)\n",
    "    return distance[destination]\n",
    "\n",
    "graph_inputs = []\n",
    "use_cases = int(input())\n",
    "for cases in range(use_cases):\n",
    "    n, m = map(int, input().split(' '))\n",
    "    temp_graph = {}\n",
    "    for vertex in range(m):\n",
    "        v1, v2 = map(int, input().split(' '))\n",
    "        if v1 not in temp_graph:\n",
    "            temp_graph[v1] = [v2]\n",
    "        else:\n",
    "            temp_graph[v1].append(v2)\n",
    "        if v2 not in temp_graph:\n",
    "            temp_graph[v2] = [v1]\n",
    "        else:\n",
    "            temp_graph[v2].append(v1)\n",
    "    graph_inputs.append(temp_graph)\n",
    "    \n",
    "for case in range(use_cases):\n",
    "    print(find_shortest_path(graph_inputs[case]))"
   ]
  },
  {
   "cell_type": "markdown",
   "metadata": {},
   "source": [
    "## a"
   ]
  },
  {
   "cell_type": "code",
   "execution_count": 9,
   "metadata": {},
   "outputs": [
    {
     "data": {
      "text/plain": [
       "[0, 0, 0]"
      ]
     },
     "execution_count": 9,
     "metadata": {},
     "output_type": "execute_result"
    }
   ],
   "source": [
    "a = {\n",
    "    1:2,\n",
    "    3:4,\n",
    "    5:6\n",
    "}\n",
    "[0 for _ in range(len(a.keys()))]"
   ]
  },
  {
   "cell_type": "code",
   "execution_count": 14,
   "metadata": {},
   "outputs": [
    {
     "name": "stdout",
     "output_type": "stream",
     "text": [
      "1\n",
      "3\n"
     ]
    }
   ],
   "source": [
    "for i, j in [[1,2], [3,4]]:\n",
    "    print(i)"
   ]
  },
  {
   "cell_type": "code",
   "execution_count": 15,
   "metadata": {},
   "outputs": [],
   "source": [
    "a = [1, 2,3,4,5]"
   ]
  },
  {
   "cell_type": "code",
   "execution_count": 21,
   "metadata": {},
   "outputs": [
    {
     "data": {
      "text/plain": [
       "2"
      ]
     },
     "execution_count": 21,
     "metadata": {},
     "output_type": "execute_result"
    }
   ],
   "source": [
    "len(a[a.index(3)+1:])"
   ]
  },
  {
   "cell_type": "code",
   "execution_count": 23,
   "metadata": {},
   "outputs": [
    {
     "ename": "ValueError",
     "evalue": "9 is not in list",
     "output_type": "error",
     "traceback": [
      "\u001b[0;31m---------------------------------------------------------------------------\u001b[0m",
      "\u001b[0;31mValueError\u001b[0m                                Traceback (most recent call last)",
      "\u001b[0;32m<ipython-input-23-7c726bb23c10>\u001b[0m in \u001b[0;36m<module>\u001b[0;34m\u001b[0m\n\u001b[0;32m----> 1\u001b[0;31m \u001b[0mlen\u001b[0m\u001b[0;34m(\u001b[0m\u001b[0ma\u001b[0m\u001b[0;34m.\u001b[0m\u001b[0mindex\u001b[0m\u001b[0;34m(\u001b[0m\u001b[0;36m9\u001b[0m\u001b[0;34m)\u001b[0m\u001b[0;34m)\u001b[0m\u001b[0;34m\u001b[0m\u001b[0;34m\u001b[0m\u001b[0m\n\u001b[0m",
      "\u001b[0;31mValueError\u001b[0m: 9 is not in list"
     ]
    }
   ],
   "source": [
    "len(a.index(9))"
   ]
  },
  {
   "cell_type": "code",
   "execution_count": 26,
   "metadata": {},
   "outputs": [
    {
     "data": {
      "text/plain": [
       "1"
      ]
     },
     "execution_count": 26,
     "metadata": {},
     "output_type": "execute_result"
    }
   ],
   "source": [
    "a.pop(0)"
   ]
  },
  {
   "cell_type": "code",
   "execution_count": null,
   "metadata": {},
   "outputs": [],
   "source": []
  }
 ],
 "metadata": {
  "kernelspec": {
   "display_name": "Python 3",
   "language": "python",
   "name": "python3"
  },
  "language_info": {
   "codemirror_mode": {
    "name": "ipython",
    "version": 3
   },
   "file_extension": ".py",
   "mimetype": "text/x-python",
   "name": "python",
   "nbconvert_exporter": "python",
   "pygments_lexer": "ipython3",
   "version": "3.7.6"
  }
 },
 "nbformat": 4,
 "nbformat_minor": 2
}
