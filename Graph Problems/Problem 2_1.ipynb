{
 "cells": [
  {
   "cell_type": "code",
   "execution_count": 2,
   "metadata": {},
   "outputs": [
    {
     "data": {
      "text/plain": [
       "1"
      ]
     },
     "execution_count": 2,
     "metadata": {},
     "output_type": "execute_result"
    }
   ],
   "source": [
    "int(10/9)"
   ]
  },
  {
   "cell_type": "code",
   "execution_count": 4,
   "metadata": {},
   "outputs": [
    {
     "data": {
      "text/plain": [
       "3"
      ]
     },
     "execution_count": 4,
     "metadata": {},
     "output_type": "execute_result"
    }
   ],
   "source": [
    "10%7"
   ]
  },
  {
   "cell_type": "code",
   "execution_count": 6,
   "metadata": {},
   "outputs": [
    {
     "data": {
      "text/plain": [
       "1"
      ]
     },
     "execution_count": 6,
     "metadata": {},
     "output_type": "execute_result"
    }
   ],
   "source": [
    "abs(-1)"
   ]
  },
  {
   "cell_type": "code",
   "execution_count": 12,
   "metadata": {},
   "outputs": [],
   "source": [
    "a = []\n",
    "a.append([1,23])"
   ]
  },
  {
   "cell_type": "code",
   "execution_count": 21,
   "metadata": {},
   "outputs": [],
   "source": [
    "b = [1,2]"
   ]
  },
  {
   "cell_type": "code",
   "execution_count": 23,
   "metadata": {},
   "outputs": [
    {
     "data": {
      "text/plain": [
       "[1, 2, 5, 6]"
      ]
     },
     "execution_count": 23,
     "metadata": {},
     "output_type": "execute_result"
    }
   ],
   "source": [
    "b + [i for i in [5,6]]"
   ]
  },
  {
   "cell_type": "code",
   "execution_count": 20,
   "metadata": {},
   "outputs": [
    {
     "data": {
      "text/plain": [
       "[]"
      ]
     },
     "execution_count": 20,
     "metadata": {},
     "output_type": "execute_result"
    }
   ],
   "source": [
    "b"
   ]
  },
  {
   "cell_type": "code",
   "execution_count": 94,
   "metadata": {},
   "outputs": [],
   "source": [
    "def find_position(node):\n",
    "    row = node//8\n",
    "    col = node%8\n",
    "    return row, col\n",
    "    \n",
    "def find_children(node):\n",
    "    current_row, current_col = find_position(node)\n",
    "    children = []\n",
    "    valid_children = []\n",
    "    jumps = [6, 10, 15, 17]\n",
    "    # Down Jumps\n",
    "    for i in jumps:\n",
    "        # Check if child outside the board\n",
    "        if node+i <= 63:\n",
    "            children.append(node+i)\n",
    "    # Up Jumps\n",
    "    for i in jumps:\n",
    "        # Check if child outside the board\n",
    "        if node-i >= 0:\n",
    "            children.append(node-i)\n",
    "    # Check valid nodes\n",
    "    for i in children:\n",
    "        r, c = find_position(i)\n",
    "        row_diff = abs(current_row - r)\n",
    "        col_diff = abs(current_col - c)\n",
    "        if (row_diff<=2 and col_diff<=2):\n",
    "            valid_children.append(i)\n",
    "    return valid_children\n",
    "\n",
    "def solution(src, dest):\n",
    "    q = [src]\n",
    "    distance = [-1 for _ in range(64)]\n",
    "    distance[src] = 0\n",
    "    while q:\n",
    "        s = q.pop(0)\n",
    "        print(q)\n",
    "        children = find_children(s)\n",
    "        for i in children:\n",
    "            if distance[i] ==  -1:\n",
    "                distance[i] = distance[s] + 1\n",
    "                q.append(i)\n",
    "        if distance[dest] != -1:\n",
    "            return distance[dest]\n",
    "    return distance[dest]"
   ]
  },
  {
   "cell_type": "code",
   "execution_count": 96,
   "metadata": {},
   "outputs": [
    {
     "name": "stdout",
     "output_type": "stream",
     "text": [
      "[]\n",
      "[17]\n",
      "[16, 20, 25, 27, 4]\n",
      "[20, 25, 27, 4, 32, 34, 11, 2]\n",
      "[25, 27, 4, 32, 34, 11, 2, 26, 33, 1]\n",
      "[27, 4, 32, 34, 11, 2, 26, 33, 1, 30, 35, 37, 14, 5, 3]\n",
      "[4, 32, 34, 11, 2, 26, 33, 1, 30, 35, 37, 14, 5, 3, 40, 42, 19, 8]\n",
      "[32, 34, 11, 2, 26, 33, 1, 30, 35, 37, 14, 5, 3, 40, 42, 19, 8, 44, 21, 12]\n",
      "[34, 11, 2, 26, 33, 1, 30, 35, 37, 14, 5, 3, 40, 42, 19, 8, 44, 21, 12]\n",
      "[11, 2, 26, 33, 1, 30, 35, 37, 14, 5, 3, 40, 42, 19, 8, 44, 21, 12, 49]\n",
      "[2, 26, 33, 1, 30, 35, 37, 14, 5, 3, 40, 42, 19, 8, 44, 21, 12, 49, 51, 28, 24]\n",
      "[26, 33, 1, 30, 35, 37, 14, 5, 3, 40, 42, 19, 8, 44, 21, 12, 49, 51, 28, 24]\n",
      "[33, 1, 30, 35, 37, 14, 5, 3, 40, 42, 19, 8, 44, 21, 12, 49, 51, 28, 24]\n",
      "[1, 30, 35, 37, 14, 5, 3, 40, 42, 19, 8, 44, 21, 12, 49, 51, 28, 24, 36, 41, 43, 9]\n",
      "[30, 35, 37, 14, 5, 3, 40, 42, 19, 8, 44, 21, 12, 49, 51, 28, 24, 36, 41, 43, 9, 48, 50, 18]\n",
      "[35, 37, 14, 5, 3, 40, 42, 19, 8, 44, 21, 12, 49, 51, 28, 24, 36, 41, 43, 9, 48, 50, 18]\n",
      "[37, 14, 5, 3, 40, 42, 19, 8, 44, 21, 12, 49, 51, 28, 24, 36, 41, 43, 9, 48, 50, 18, 45, 47, 15, 13]\n",
      "[14, 5, 3, 40, 42, 19, 8, 44, 21, 12, 49, 51, 28, 24, 36, 41, 43, 9, 48, 50, 18, 45, 47, 15, 13, 52, 29]\n",
      "[5, 3, 40, 42, 19, 8, 44, 21, 12, 49, 51, 28, 24, 36, 41, 43, 9, 48, 50, 18, 45, 47, 15, 13, 52, 29, 54, 31, 22]\n",
      "[3, 40, 42, 19, 8, 44, 21, 12, 49, 51, 28, 24, 36, 41, 43, 9, 48, 50, 18, 45, 47, 15, 13, 52, 29, 54, 31, 22]\n",
      "[40, 42, 19, 8, 44, 21, 12, 49, 51, 28, 24, 36, 41, 43, 9, 48, 50, 18, 45, 47, 15, 13, 52, 29, 54, 31, 22]\n",
      "[42, 19, 8, 44, 21, 12, 49, 51, 28, 24, 36, 41, 43, 9, 48, 50, 18, 45, 47, 15, 13, 52, 29, 54, 31, 22]\n",
      "[19, 8, 44, 21, 12, 49, 51, 28, 24, 36, 41, 43, 9, 48, 50, 18, 45, 47, 15, 13, 52, 29, 54, 31, 22, 57]\n",
      "[8, 44, 21, 12, 49, 51, 28, 24, 36, 41, 43, 9, 48, 50, 18, 45, 47, 15, 13, 52, 29, 54, 31, 22, 57, 59]\n",
      "[44, 21, 12, 49, 51, 28, 24, 36, 41, 43, 9, 48, 50, 18, 45, 47, 15, 13, 52, 29, 54, 31, 22, 57, 59]\n",
      "[21, 12, 49, 51, 28, 24, 36, 41, 43, 9, 48, 50, 18, 45, 47, 15, 13, 52, 29, 54, 31, 22, 57, 59]\n",
      "[12, 49, 51, 28, 24, 36, 41, 43, 9, 48, 50, 18, 45, 47, 15, 13, 52, 29, 54, 31, 22, 57, 59, 61, 38]\n",
      "[49, 51, 28, 24, 36, 41, 43, 9, 48, 50, 18, 45, 47, 15, 13, 52, 29, 54, 31, 22, 57, 59, 61, 38, 6]\n",
      "[51, 28, 24, 36, 41, 43, 9, 48, 50, 18, 45, 47, 15, 13, 52, 29, 54, 31, 22, 57, 59, 61, 38, 6]\n",
      "[28, 24, 36, 41, 43, 9, 48, 50, 18, 45, 47, 15, 13, 52, 29, 54, 31, 22, 57, 59, 61, 38, 6]\n",
      "[24, 36, 41, 43, 9, 48, 50, 18, 45, 47, 15, 13, 52, 29, 54, 31, 22, 57, 59, 61, 38, 6]\n",
      "[36, 41, 43, 9, 48, 50, 18, 45, 47, 15, 13, 52, 29, 54, 31, 22, 57, 59, 61, 38, 6]\n",
      "[41, 43, 9, 48, 50, 18, 45, 47, 15, 13, 52, 29, 54, 31, 22, 57, 59, 61, 38, 6]\n",
      "[43, 9, 48, 50, 18, 45, 47, 15, 13, 52, 29, 54, 31, 22, 57, 59, 61, 38, 6, 46, 53]\n",
      "[9, 48, 50, 18, 45, 47, 15, 13, 52, 29, 54, 31, 22, 57, 59, 61, 38, 6, 46, 53, 56, 58]\n",
      "[48, 50, 18, 45, 47, 15, 13, 52, 29, 54, 31, 22, 57, 59, 61, 38, 6, 46, 53, 56, 58, 60]\n",
      "[50, 18, 45, 47, 15, 13, 52, 29, 54, 31, 22, 57, 59, 61, 38, 6, 46, 53, 56, 58, 60]\n",
      "[18, 45, 47, 15, 13, 52, 29, 54, 31, 22, 57, 59, 61, 38, 6, 46, 53, 56, 58, 60]\n",
      "[45, 47, 15, 13, 52, 29, 54, 31, 22, 57, 59, 61, 38, 6, 46, 53, 56, 58, 60]\n",
      "[47, 15, 13, 52, 29, 54, 31, 22, 57, 59, 61, 38, 6, 46, 53, 56, 58, 60]\n",
      "[15, 13, 52, 29, 54, 31, 22, 57, 59, 61, 38, 6, 46, 53, 56, 58, 60, 55, 62, 39]\n",
      "[13, 52, 29, 54, 31, 22, 57, 59, 61, 38, 6, 46, 53, 56, 58, 60, 55, 62, 39]\n",
      "[52, 29, 54, 31, 22, 57, 59, 61, 38, 6, 46, 53, 56, 58, 60, 55, 62, 39]\n",
      "[29, 54, 31, 22, 57, 59, 61, 38, 6, 46, 53, 56, 58, 60, 55, 62, 39, 23, 7]\n",
      "[54, 31, 22, 57, 59, 61, 38, 6, 46, 53, 56, 58, 60, 55, 62, 39, 23, 7]\n",
      "[31, 22, 57, 59, 61, 38, 6, 46, 53, 56, 58, 60, 55, 62, 39, 23, 7]\n",
      "[22, 57, 59, 61, 38, 6, 46, 53, 56, 58, 60, 55, 62, 39, 23, 7]\n",
      "[57, 59, 61, 38, 6, 46, 53, 56, 58, 60, 55, 62, 39, 23, 7]\n",
      "[59, 61, 38, 6, 46, 53, 56, 58, 60, 55, 62, 39, 23, 7]\n",
      "[61, 38, 6, 46, 53, 56, 58, 60, 55, 62, 39, 23, 7]\n",
      "[38, 6, 46, 53, 56, 58, 60, 55, 62, 39, 23, 7]\n",
      "[6, 46, 53, 56, 58, 60, 55, 62, 39, 23, 7]\n",
      "[46, 53, 56, 58, 60, 55, 62, 39, 23, 7]\n",
      "[53, 56, 58, 60, 55, 62, 39, 23, 7]\n"
     ]
    },
    {
     "data": {
      "text/plain": [
       "6"
      ]
     },
     "execution_count": 96,
     "metadata": {},
     "output_type": "execute_result"
    }
   ],
   "source": [
    "solution(0, 63)"
   ]
  },
  {
   "cell_type": "code",
   "execution_count": null,
   "metadata": {},
   "outputs": [],
   "source": []
  },
  {
   "cell_type": "code",
   "execution_count": 38,
   "metadata": {},
   "outputs": [
    {
     "data": {
      "text/plain": [
       "(1, 7)"
      ]
     },
     "execution_count": 38,
     "metadata": {},
     "output_type": "execute_result"
    }
   ],
   "source": [
    "find_position(15)"
   ]
  },
  {
   "cell_type": "code",
   "execution_count": 77,
   "metadata": {},
   "outputs": [
    {
     "data": {
      "text/plain": [
       "1"
      ]
     },
     "execution_count": 77,
     "metadata": {},
     "output_type": "execute_result"
    }
   ],
   "source": [
    "solution(19, 36)"
   ]
  },
  {
   "cell_type": "code",
   "execution_count": null,
   "metadata": {},
   "outputs": [],
   "source": []
  }
 ],
 "metadata": {
  "kernelspec": {
   "display_name": "Python 3",
   "language": "python",
   "name": "python3"
  },
  "language_info": {
   "codemirror_mode": {
    "name": "ipython",
    "version": 3
   },
   "file_extension": ".py",
   "mimetype": "text/x-python",
   "name": "python",
   "nbconvert_exporter": "python",
   "pygments_lexer": "ipython3",
   "version": "3.7.6"
  }
 },
 "nbformat": 4,
 "nbformat_minor": 2
}
