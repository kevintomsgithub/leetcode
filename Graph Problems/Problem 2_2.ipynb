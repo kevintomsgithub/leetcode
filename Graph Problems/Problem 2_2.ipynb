{
 "cells": [
  {
   "cell_type": "code",
   "execution_count": 6,
   "metadata": {},
   "outputs": [
    {
     "name": "stdout",
     "output_type": "stream",
     "text": [
      "5\n",
      "1\n",
      "1\n"
     ]
    }
   ],
   "source": [
    "def convert_base(n, base):\n",
    "    convertedNumber = [0,1,2,3,4,5,6,7,8,9]\n",
    "    print(n)\n",
    "    if n < base:\n",
    "        return convertedNumber[n]\n",
    "    else:\n",
    "        return convert_base(n//base, base) + convertedNumber[n%base]\n",
    "\n",
    "print(convert_base(5, 5))"
   ]
  },
  {
   "cell_type": "code",
   "execution_count": 49,
   "metadata": {},
   "outputs": [
    {
     "name": "stdout",
     "output_type": "stream",
     "text": [
      "42\n"
     ]
    }
   ],
   "source": [
    "def toStr(n,base):\n",
    "   convertString = \"0123456789\"\n",
    "   if n < base:\n",
    "      return convertString[n]\n",
    "   else:\n",
    "      return toStr(n//base,base) + convertString[n%base]\n",
    "\n",
    "print(toStr(22,5))"
   ]
  },
  {
   "cell_type": "code",
   "execution_count": 11,
   "metadata": {},
   "outputs": [
    {
     "data": {
      "text/plain": [
       "22"
      ]
     },
     "execution_count": 11,
     "metadata": {},
     "output_type": "execute_result"
    }
   ],
   "source": [
    "155 - 133"
   ]
  },
  {
   "cell_type": "code",
   "execution_count": 14,
   "metadata": {},
   "outputs": [
    {
     "data": {
      "text/plain": [
       "97"
      ]
     },
     "execution_count": 14,
     "metadata": {},
     "output_type": "execute_result"
    }
   ],
   "source": [
    "1110 - 1013 == 42"
   ]
  },
  {
   "cell_type": "code",
   "execution_count": 19,
   "metadata": {},
   "outputs": [
    {
     "data": {
      "text/plain": [
       "[1, 3, 4, 2, 0]"
      ]
     },
     "execution_count": 19,
     "metadata": {},
     "output_type": "execute_result"
    }
   ],
   "source": [
    "def numberToBase(n, b):\n",
    "    if n == 0:\n",
    "        return [0]\n",
    "    digits = []\n",
    "    while n:\n",
    "        digits.append(int(n % b))\n",
    "        n //= b\n",
    "    return digits[::-1]\n",
    "\n",
    "numberToBase(1110, 5)"
   ]
  },
  {
   "cell_type": "code",
   "execution_count": 45,
   "metadata": {},
   "outputs": [
    {
     "data": {
      "text/plain": [
       "155"
      ]
     },
     "execution_count": 45,
     "metadata": {},
     "output_type": "execute_result"
    }
   ],
   "source": [
    "int('1110', 5)"
   ]
  },
  {
   "cell_type": "code",
   "execution_count": 35,
   "metadata": {},
   "outputs": [
    {
     "data": {
      "text/plain": [
       "22"
      ]
     },
     "execution_count": 35,
     "metadata": {},
     "output_type": "execute_result"
    }
   ],
   "source": [
    "int('1110', 5) - int('1013', 5)"
   ]
  },
  {
   "cell_type": "code",
   "execution_count": 111,
   "metadata": {},
   "outputs": [],
   "source": [
    "number = 1211\n",
    "\n",
    "ascending = \"\".join(sorted(str(123)))\n",
    "\n",
    "descending = \"\".join(sorted(str(number), reverse=True))"
   ]
  },
  {
   "cell_type": "code",
   "execution_count": 109,
   "metadata": {},
   "outputs": [
    {
     "data": {
      "text/plain": [
       "999"
      ]
     },
     "execution_count": 109,
     "metadata": {},
     "output_type": "execute_result"
    }
   ],
   "source": [
    "int(descending) - int(ascending)"
   ]
  },
  {
   "cell_type": "code",
   "execution_count": 112,
   "metadata": {},
   "outputs": [
    {
     "data": {
      "text/plain": [
       "'123'"
      ]
     },
     "execution_count": 112,
     "metadata": {},
     "output_type": "execute_result"
    }
   ],
   "source": [
    "ascending"
   ]
  },
  {
   "cell_type": "code",
   "execution_count": 22,
   "metadata": {},
   "outputs": [],
   "source": [
    "def convert_back_to_base(n, b):\n",
    "    convertString = \"0123456789\"\n",
    "    if n < b:\n",
    "        return convertString[n]\n",
    "    else:\n",
    "        return convert_back_to_base(n//b, b) + convertString[n%b]\n",
    "    \n",
    "def find_x(n):\n",
    "    descending = \"\".join(sorted(n, reverse=True))\n",
    "    print('x: ', descending)\n",
    "    return descending\n",
    "\n",
    "def find_y(n):\n",
    "    ascending = \"\".join(sorted(n))\n",
    "    print('y: ', ascending)\n",
    "    return ascending\n",
    "\n",
    "def find_z(x, y, b, k):\n",
    "    dx = int(x, b)\n",
    "    dy = int(y, b)\n",
    "    dz = dx - dy\n",
    "    z = convert_back_to_base(dz, b)\n",
    "    # Padding with 0s\n",
    "    z = '0' * (k-len(z)) + z\n",
    "    print('z: ', z)\n",
    "    return z\n",
    "    \n",
    "def solution(n, b):\n",
    "    k = len(n)\n",
    "    new_n = []\n",
    "    while n!= 0:\n",
    "        print('Queue: ', new_n)\n",
    "        print('Next N: ', n)\n",
    "        if n not in new_n:\n",
    "            new_n.append(n)\n",
    "        else:\n",
    "            if n == new_n[-1]:\n",
    "                return 1\n",
    "            else:\n",
    "                cycle_start = new_n.index(n)\n",
    "                return len(new_n) - cycle_start\n",
    "        x = find_x(n)\n",
    "        y = find_y(n)\n",
    "        z = find_z(x, y, b, k)\n",
    "        n = z\n",
    "    return 1"
   ]
  },
  {
   "cell_type": "code",
   "execution_count": 23,
   "metadata": {},
   "outputs": [
    {
     "name": "stdout",
     "output_type": "stream",
     "text": [
      "Queue:  []\n",
      "Next N:  210022\n",
      "x:  222100\n",
      "y:  001222\n",
      "z:  220101\n",
      "Queue:  ['210022']\n",
      "Next N:  220101\n",
      "x:  221100\n",
      "y:  001122\n",
      "z:  212201\n",
      "Queue:  ['210022', '220101']\n",
      "Next N:  212201\n",
      "x:  222110\n",
      "y:  011222\n",
      "z:  210111\n",
      "Queue:  ['210022', '220101', '212201']\n",
      "Next N:  210111\n",
      "x:  211110\n",
      "y:  011112\n",
      "z:  122221\n",
      "Queue:  ['210022', '220101', '212201', '210111']\n",
      "Next N:  122221\n",
      "x:  222211\n",
      "y:  112222\n",
      "z:  102212\n",
      "Queue:  ['210022', '220101', '212201', '210111', '122221']\n",
      "Next N:  102212\n",
      "x:  222110\n",
      "y:  011222\n",
      "z:  210111\n",
      "Queue:  ['210022', '220101', '212201', '210111', '122221', '102212']\n",
      "Next N:  210111\n"
     ]
    },
    {
     "data": {
      "text/plain": [
       "3"
      ]
     },
     "execution_count": 23,
     "metadata": {},
     "output_type": "execute_result"
    }
   ],
   "source": [
    "solution('210022', 3)"
   ]
  },
  {
   "cell_type": "code",
   "execution_count": 24,
   "metadata": {},
   "outputs": [
    {
     "name": "stdout",
     "output_type": "stream",
     "text": [
      "Queue:  []\n",
      "Next N:  100007\n",
      "x:  710000\n",
      "y:  000017\n",
      "z:  709983\n",
      "Queue:  ['100007']\n",
      "Next N:  709983\n",
      "x:  998730\n",
      "y:  037899\n",
      "z:  960831\n",
      "Queue:  ['100007', '709983']\n",
      "Next N:  960831\n",
      "x:  986310\n",
      "y:  013689\n",
      "z:  972621\n",
      "Queue:  ['100007', '709983', '960831']\n",
      "Next N:  972621\n",
      "x:  976221\n",
      "y:  122679\n",
      "z:  853542\n",
      "Queue:  ['100007', '709983', '960831', '972621']\n",
      "Next N:  853542\n",
      "x:  855432\n",
      "y:  234558\n",
      "z:  620874\n",
      "Queue:  ['100007', '709983', '960831', '972621', '853542']\n",
      "Next N:  620874\n",
      "x:  876420\n",
      "y:  024678\n",
      "z:  851742\n",
      "Queue:  ['100007', '709983', '960831', '972621', '853542', '620874']\n",
      "Next N:  851742\n",
      "x:  875421\n",
      "y:  124578\n",
      "z:  750843\n",
      "Queue:  ['100007', '709983', '960831', '972621', '853542', '620874', '851742']\n",
      "Next N:  750843\n",
      "x:  875430\n",
      "y:  034578\n",
      "z:  840852\n",
      "Queue:  ['100007', '709983', '960831', '972621', '853542', '620874', '851742', '750843']\n",
      "Next N:  840852\n",
      "x:  885420\n",
      "y:  024588\n",
      "z:  860832\n",
      "Queue:  ['100007', '709983', '960831', '972621', '853542', '620874', '851742', '750843', '840852']\n",
      "Next N:  860832\n",
      "x:  886320\n",
      "y:  023688\n",
      "z:  862632\n",
      "Queue:  ['100007', '709983', '960831', '972621', '853542', '620874', '851742', '750843', '840852', '860832']\n",
      "Next N:  862632\n",
      "x:  866322\n",
      "y:  223668\n",
      "z:  642654\n",
      "Queue:  ['100007', '709983', '960831', '972621', '853542', '620874', '851742', '750843', '840852', '860832', '862632']\n",
      "Next N:  642654\n",
      "x:  665442\n",
      "y:  244566\n",
      "z:  420876\n",
      "Queue:  ['100007', '709983', '960831', '972621', '853542', '620874', '851742', '750843', '840852', '860832', '862632', '642654']\n",
      "Next N:  420876\n",
      "x:  876420\n",
      "y:  024678\n",
      "z:  851742\n",
      "Queue:  ['100007', '709983', '960831', '972621', '853542', '620874', '851742', '750843', '840852', '860832', '862632', '642654', '420876']\n",
      "Next N:  851742\n"
     ]
    },
    {
     "data": {
      "text/plain": [
       "7"
      ]
     },
     "execution_count": 24,
     "metadata": {},
     "output_type": "execute_result"
    }
   ],
   "source": [
    "solution('100007', 10)"
   ]
  },
  {
   "cell_type": "code",
   "execution_count": 125,
   "metadata": {},
   "outputs": [],
   "source": [
    "a = \"\".join(sorted('asdas', reverse=True))"
   ]
  },
  {
   "cell_type": "code",
   "execution_count": 126,
   "metadata": {},
   "outputs": [
    {
     "data": {
      "text/plain": [
       "'ssdaa'"
      ]
     },
     "execution_count": 126,
     "metadata": {},
     "output_type": "execute_result"
    }
   ],
   "source": [
    "a"
   ]
  },
  {
   "cell_type": "code",
   "execution_count": 70,
   "metadata": {},
   "outputs": [],
   "source": [
    "str(1).zfill(5)\n",
    "k =4"
   ]
  },
  {
   "cell_type": "code",
   "execution_count": 76,
   "metadata": {},
   "outputs": [
    {
     "data": {
      "text/plain": [
       "'0042'"
      ]
     },
     "execution_count": 76,
     "metadata": {},
     "output_type": "execute_result"
    }
   ],
   "source": [
    "'0' * (k-len(x)) + x"
   ]
  },
  {
   "cell_type": "code",
   "execution_count": 72,
   "metadata": {},
   "outputs": [
    {
     "data": {
      "text/plain": [
       "2"
      ]
     },
     "execution_count": 72,
     "metadata": {},
     "output_type": "execute_result"
    }
   ],
   "source": [
    "len(x)"
   ]
  },
  {
   "cell_type": "code",
   "execution_count": 6,
   "metadata": {},
   "outputs": [],
   "source": [
    "def convert_back_to_base(n, b):\n",
    "    convertString = \"0123456789\"\n",
    "    if n < b:\n",
    "        return convertString[n]\n",
    "    else:\n",
    "        return convert_back_to_base(n//b, b) + convertString[n%b]\n",
    "        \n",
    "def find_x(n):\n",
    "    descending = \"\".join(sorted(n, reverse=True))\n",
    "    return descending\n",
    "    \n",
    "def find_y(n):\n",
    "    ascedning = \"\".join(sorted(n))\n",
    "    return ascedning\n",
    "    \n",
    "def find_z(x, y, b, k):\n",
    "    dx = int(x, b)\n",
    "    dy = int(y, b)\n",
    "    dz = dx-dy\n",
    "    z = convert_back_to_base(dz, b)\n",
    "    # Padding with zero\n",
    "    z = '0' * (k-len(z)) + z\n",
    "    return z\n",
    "\n",
    "def solution(n, b):\n",
    "    k = len(n)\n",
    "    new_n = []\n",
    "    while n!=0:\n",
    "        if n not in new_n:\n",
    "            new_n.append(n)\n",
    "        else:\n",
    "            if n == new_n[-1]:\n",
    "                return 1\n",
    "            else:\n",
    "                cycle_start = new_n.index(n)\n",
    "                return len(n) - cycle_start\n",
    "        x = find_x(n)\n",
    "        y = find_y(n)\n",
    "        z = find_z(x, y, b, k)\n",
    "        n = z\n",
    "    return 1"
   ]
  },
  {
   "cell_type": "code",
   "execution_count": 7,
   "metadata": {},
   "outputs": [
    {
     "data": {
      "text/plain": [
       "3"
      ]
     },
     "execution_count": 7,
     "metadata": {},
     "output_type": "execute_result"
    }
   ],
   "source": [
    "solution('210022', 3)"
   ]
  },
  {
   "cell_type": "code",
   "execution_count": null,
   "metadata": {},
   "outputs": [],
   "source": []
  }
 ],
 "metadata": {
  "kernelspec": {
   "display_name": "Python 3",
   "language": "python",
   "name": "python3"
  },
  "language_info": {
   "codemirror_mode": {
    "name": "ipython",
    "version": 3
   },
   "file_extension": ".py",
   "mimetype": "text/x-python",
   "name": "python",
   "nbconvert_exporter": "python",
   "pygments_lexer": "ipython3",
   "version": "3.7.6"
  }
 },
 "nbformat": 4,
 "nbformat_minor": 2
}
